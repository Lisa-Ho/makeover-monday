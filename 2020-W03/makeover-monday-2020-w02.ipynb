{
 "cells": [
  {
   "cell_type": "code",
   "execution_count": 52,
   "id": "b52c3b19",
   "metadata": {},
   "outputs": [],
   "source": [
    "import pandas as pd\n",
    "import matplotlib.pyplot as plt\n",
    "import matplotlib as mpl"
   ]
  },
  {
   "cell_type": "code",
   "execution_count": 2,
   "id": "881251ca",
   "metadata": {},
   "outputs": [],
   "source": [
    "#load data\n",
    "df = pd.read_excel(\"2020W3.xlsx\", sheet_name='Sheet2')\n",
    "\n",
    "#select only years with male/female split and reduce details\n",
    "df = df[df[\"Age bracket\"].isin(['4-10 years', '11-18 years', '19-64 years','65 years and over', ])]\n",
    "\n",
    "#reorganise dataframe\n",
    "df = pd.melt(df, id_vars=[\"Age bracket\", \"Group\", \"Gender\"], var_name=\"Year\", value_name=\"Percent\")"
   ]
  },
  {
   "cell_type": "code",
   "execution_count": 49,
   "id": "e1a5a319",
   "metadata": {},
   "outputs": [
    {
     "data": {
      "text/html": [
       "<div>\n",
       "<style scoped>\n",
       "    .dataframe tbody tr th:only-of-type {\n",
       "        vertical-align: middle;\n",
       "    }\n",
       "\n",
       "    .dataframe tbody tr th {\n",
       "        vertical-align: top;\n",
       "    }\n",
       "\n",
       "    .dataframe thead th {\n",
       "        text-align: right;\n",
       "    }\n",
       "</style>\n",
       "<table border=\"1\" class=\"dataframe\">\n",
       "  <thead>\n",
       "    <tr style=\"text-align: right;\">\n",
       "      <th></th>\n",
       "      <th>Age bracket</th>\n",
       "      <th>Group</th>\n",
       "      <th>Gender</th>\n",
       "      <th>Year</th>\n",
       "      <th>Percent</th>\n",
       "    </tr>\n",
       "  </thead>\n",
       "  <tbody>\n",
       "    <tr>\n",
       "      <th>0</th>\n",
       "      <td>4-10 years</td>\n",
       "      <td>Children</td>\n",
       "      <td>All</td>\n",
       "      <td>(2008/09 - 2009/10)</td>\n",
       "      <td>14.7</td>\n",
       "    </tr>\n",
       "    <tr>\n",
       "      <th>1</th>\n",
       "      <td>4-10 years</td>\n",
       "      <td>Children</td>\n",
       "      <td>Male</td>\n",
       "      <td>(2008/09 - 2009/10)</td>\n",
       "      <td>14.8</td>\n",
       "    </tr>\n",
       "    <tr>\n",
       "      <th>2</th>\n",
       "      <td>4-10 years</td>\n",
       "      <td>Children</td>\n",
       "      <td>Female</td>\n",
       "      <td>(2008/09 - 2009/10)</td>\n",
       "      <td>14.6</td>\n",
       "    </tr>\n",
       "    <tr>\n",
       "      <th>3</th>\n",
       "      <td>11-18 years</td>\n",
       "      <td>Children</td>\n",
       "      <td>All</td>\n",
       "      <td>(2008/09 - 2009/10)</td>\n",
       "      <td>15.9</td>\n",
       "    </tr>\n",
       "    <tr>\n",
       "      <th>4</th>\n",
       "      <td>11-18 years</td>\n",
       "      <td>Children</td>\n",
       "      <td>Male</td>\n",
       "      <td>(2008/09 - 2009/10)</td>\n",
       "      <td>16.2</td>\n",
       "    </tr>\n",
       "  </tbody>\n",
       "</table>\n",
       "</div>"
      ],
      "text/plain": [
       "   Age bracket     Group  Gender                 Year  Percent\n",
       "0   4-10 years  Children     All  (2008/09 - 2009/10)     14.7\n",
       "1   4-10 years  Children    Male  (2008/09 - 2009/10)     14.8\n",
       "2   4-10 years  Children  Female  (2008/09 - 2009/10)     14.6\n",
       "3  11-18 years  Children     All  (2008/09 - 2009/10)     15.9\n",
       "4  11-18 years  Children    Male  (2008/09 - 2009/10)     16.2"
      ]
     },
     "execution_count": 49,
     "metadata": {},
     "output_type": "execute_result"
    }
   ],
   "source": [
    "df.head()"
   ]
  },
  {
   "cell_type": "code",
   "execution_count": 136,
   "id": "55003e7b",
   "metadata": {
    "scrolled": false
   },
   "outputs": [
    {
     "data": {
      "image/png": "[encoded data removed]",
      "text/plain": [
       "<Figure size 1080x360 with 4 Axes>"
      ]
     },
     "metadata": {},
     "output_type": "display_data"
    }
   ],
   "source": [
    "gender = [\"All\", \"Female\", \"Male\"]\n",
    "cols = {\"All\": \"#333333\", \"Female\": \"orange\", \"Male\": \"blue\", \"benchmark\": \"red\"}\n",
    "date_names = [2010, 2012, 2014, 2016, 2019]\n",
    "\n",
    "# =========\n",
    "# Initialise Figure and define layout\n",
    "fig, ax = plt.subplots(figsize=(15,5))\n",
    "fig.set_facecolor(\"#f7f6f4\")\n",
    "\n",
    "\n",
    "\n",
    "# =======\n",
    "#plot data for each age bracket\n",
    "num=0\n",
    "for i in df[\"Age bracket\"].unique():\n",
    "    num+=1\n",
    "    plt.subplot(1,4,num)\n",
    "    \n",
    "    ####plot data\n",
    "    #all\n",
    "    plt.plot(date_names, df[(df[\"Age bracket\"]==i) & (df[\"Gender\"]==group[0])][\"Percent\"],\n",
    "            linewidth=4, color=cols[group[0]])\n",
    "    plt.scatter(date_names, df[(df[\"Age bracket\"]==i) & (df[\"Gender\"]==group[0])][\"Percent\"],\n",
    "            s=60, color=cols[group[0]])\n",
    "\n",
    "    \n",
    "    #remove grid\n",
    "    for pos in ['right', 'top',  'left']:\n",
    "        plt.gca().spines[pos].set_visible(False)\n",
    "    plt.gca().set_facecolor(\"#f7f6f4\")\n",
    "    \n",
    "    #x-axis\n",
    "    plt.xticks([2009,2010, 2012, 2014, 2016, 2019], [\"\",2010, 2012, 2014, 2016, 2019])\n",
    "    plt.gca().set_xlim(xmin=2009, xmax=2020)\n",
    "    \n",
    "    #yaxis\n",
    "    plt.gca().set_ylim(ymin=0, ymax=20)\n",
    "    if num==1:\n",
    "        plt.yticks([5,10,15,20])\n",
    "        plt.gca().yaxis.set_major_formatter(mpl.ticker.StrMethodFormatter('{x:,.0f}%'))\n",
    "    else:\n",
    "        plt.yticks([5,10,15,20], [\"\", \"\", \"\", \"\"])\n",
    "    plt.grid(visible=True, axis='y', zorder=1, color = \"#D3D3D3\")\n",
    "    \n",
    "    plt.tick_params(axis='both', length = 0, color = \"#444444\", labelsize=11)\n",
    "    \n",
    "    \n",
    "    #recommended intake line\n",
    "    plt.plot([2009, 2020], [5,5],linestyle= (0,(1, 1)), linewidth=2.5, color=cols[\"benchmark\"])\n",
    "    \n",
    "    #title\n",
    "    plt.title(i, y=1.06,ha='center', fontsize=12)\n"
   ]
  },
  {
   "cell_type": "code",
   "execution_count": 146,
   "id": "40995827",
   "metadata": {},
   "outputs": [
    {
     "data": {
      "image/png": "[encoded data removed]",
      "text/plain": [
       "<Figure size 936x360 with 4 Axes>"
      ]
     },
     "metadata": {},
     "output_type": "display_data"
    }
   ],
   "source": [
    "gender = [\"All\", \"Female\", \"Male\"]\n",
    "cols = {\"All\": \"#333333\", \"Female\": \"orange\", \"Male\": \"blue\", \"benchmark\": \"red\"}\n",
    "date_names = [2010, 2012, 2014, 2016, 2019]\n",
    "\n",
    "# =========\n",
    "# Initialise Figure and define layout\n",
    "fig, ax = plt.subplots(figsize=(13,5))\n",
    "fig.set_facecolor(\"#f7f6f4\")\n",
    "\n",
    "\n",
    "\n",
    "# =======\n",
    "#plot data for each age bracket\n",
    "num=0\n",
    "for i in df[\"Age bracket\"].unique():\n",
    "    num+=1\n",
    "    plt.subplot(1,4,num)\n",
    "    \n",
    "    ####plot data\n",
    "    #all\n",
    "    plt.bar(date_names, df[(df[\"Age bracket\"]==i) & (df[\"Gender\"]==group[0])][\"Percent\"],\n",
    "            color=cols[group[0]], width=1.5)\n",
    "    \n",
    "    #remove grid\n",
    "    for pos in ['right', 'top',  'left']:\n",
    "        plt.gca().spines[pos].set_visible(False)\n",
    "    plt.gca().set_facecolor(\"#f7f6f4\")\n",
    "    \n",
    "    #x-axis\n",
    "    plt.xticks([2009,2010, 2012, 2014, 2016, 2019], [\"\",2010, 2012, 2014, 2016, 2019])\n",
    "    plt.gca().set_xlim(xmin=2009, xmax=2020)\n",
    "    \n",
    "    #yaxis\n",
    "    plt.gca().set_ylim(ymin=0, ymax=20)\n",
    "    if num==1:\n",
    "        plt.yticks([5,10,15,20])\n",
    "        plt.gca().yaxis.set_major_formatter(mpl.ticker.StrMethodFormatter('{x:,.0f}%'))\n",
    "    else:\n",
    "        plt.yticks([5,10,15,20], [\"\", \"\", \"\", \"\"])\n",
    "    plt.grid(visible=True, axis='y', zorder=1, color = \"#D3D3D3\")\n",
    "    \n",
    "    plt.tick_params(axis='both', length = 0, color = \"#444444\", labelsize=11)\n",
    "    \n",
    "    \n",
    "    #recommended intake line\n",
    "    plt.plot([2009, 2020], [5,5],linestyle= (0,(1, 1)), linewidth=2.5, color=cols[\"benchmark\"])\n",
    "    \n",
    "    #title\n",
    "    plt.title(i, y=1.06,ha='center', fontsize=12)\n"
   ]
  },
  {
   "cell_type": "code",
   "execution_count": 13,
   "id": "b14a78a9",
   "metadata": {},
   "outputs": [],
   "source": [
    "#function to draw arrows\n",
    "def draw_arrow(plt, arr_start, arr_end):\n",
    "       dx = arr_end[0] - arr_start[0]\n",
    "       dy = arr_end[1] - arr_start[1]\n",
    "       plt.arrow(arr_start[0], arr_start[1], dx, dy,\n",
    "                 head_width=1, head_length=1, length_includes_head=True, color='black')"
   ]
  },
  {
   "cell_type": "code",
   "execution_count": 18,
   "id": "c182b41e",
   "metadata": {},
   "outputs": [
    {
     "data": {
      "image/png": "[encoded data removed]",
      "text/plain": [
       "<Figure size 432x288 with 1 Axes>"
      ]
     },
     "metadata": {
      "needs_background": "light"
     },
     "output_type": "display_data"
    }
   ],
   "source": [
    "plt.xlim(-2,2)\n",
    "plt.ylim(-2,2)\n",
    "draw_arrow(plt, [0,0], [0,-1])\n",
    "plt.show()"
   ]
  }
 ],
 "metadata": {
  "kernelspec": {
   "display_name": "Python 3 (ipykernel)",
   "language": "python",
   "name": "python3"
  },
  "language_info": {
   "codemirror_mode": {
    "name": "ipython",
    "version": 3
   },
   "file_extension": ".py",
   "mimetype": "text/x-python",
   "name": "python",
   "nbconvert_exporter": "python",
   "pygments_lexer": "ipython3",
   "version": "3.9.2"
  }
 },
 "nbformat": 4,
 "nbformat_minor": 5
}
